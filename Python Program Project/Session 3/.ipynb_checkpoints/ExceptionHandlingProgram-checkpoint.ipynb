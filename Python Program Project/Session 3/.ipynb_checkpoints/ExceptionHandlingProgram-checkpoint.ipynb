{
 "cells": [
  {
   "cell_type": "code",
   "execution_count": null,
   "metadata": {},
   "outputs": [],
   "source": [
    "def Division(x, y):\n",
    "    return x / y\n",
    "    \n",
    "try:\n",
    "    #x = int(input(\"Enter an Divisor value: \\t\"))\n",
    "    #y = int(input(\"Enter an Dividend value: \\t\"))\n",
    "    #print(\"Quotient: \" +Division(x, y))\n",
    "    f = open('myfile.txt', w)\n",
    "    s = f.readline()\n",
    "    f.write(\"new line added programmatically\")\n",
    "    for new in open('myfile.txt'):\n",
    "        print(\"--> \" + line)\n",
    "    print(s)\n",
    "except ZeroDivisionError as err:\n",
    "    print('Handling run-time error:', err)\n",
    "except ValueError as err:\n",
    "    print(\"Please enter only integer value...\" + err)\n",
    "finally:\n",
    "    print(\"Finally executed...\")"
   ]
  },
  {
   "cell_type": "code",
   "execution_count": null,
   "metadata": {},
   "outputs": [],
   "source": []
  },
  {
   "cell_type": "code",
   "execution_count": null,
   "metadata": {},
   "outputs": [],
   "source": []
  },
  {
   "cell_type": "code",
   "execution_count": null,
   "metadata": {},
   "outputs": [],
   "source": []
  }
 ],
 "metadata": {
  "kernelspec": {
   "display_name": "Python 3",
   "language": "python",
   "name": "python3"
  }
 },
 "nbformat": 4,
 "nbformat_minor": 2
}
