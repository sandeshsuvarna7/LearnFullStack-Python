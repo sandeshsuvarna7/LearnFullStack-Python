{
 "cells": [
  {
   "cell_type": "code",
   "execution_count": 36,
   "metadata": {},
   "outputs": [
    {
     "name": "stdout",
     "output_type": "stream",
     "text": [
      "['__doc__', '__loader__', '__name__', '__package__', '__spec__', 'acos', 'acosh', 'asin', 'asinh', 'atan', 'atan2', 'atanh', 'ceil', 'copysign', 'cos', 'cosh', 'degrees', 'e', 'erf', 'erfc', 'exp', 'expm1', 'fabs', 'factorial', 'floor', 'fmod', 'frexp', 'fsum', 'gamma', 'gcd', 'hypot', 'inf', 'isclose', 'isfinite', 'isinf', 'isnan', 'ldexp', 'lgamma', 'log', 'log10', 'log1p', 'log2', 'modf', 'nan', 'pi', 'pow', 'radians', 'remainder', 'sin', 'sinh', 'sqrt', 'tan', 'tanh', 'tau', 'trunc']\n",
      "Help on built-in function ceil in module math:\n",
      "\n",
      "ceil(x, /)\n",
      "    Return the ceiling of x as an Integral.\n",
      "    \n",
      "    This is the smallest integer >= x.\n",
      "\n",
      "6\n",
      "Jio Kumar was born in 2012.\n",
      "8\n",
      "Ranbir Kapoor was born in 1985.\n",
      "Ranbir\n",
      "<class '__main__.Student'> <class 'type'> <class 'method'> <class 'int'> <class 'str'>\n",
      "36\n",
      "Ranbir Kapoor , your student ID is 101 and date of birth is 1985\n",
      "None\n",
      "40\n",
      "John\n"
     ]
    }
   ],
   "source": [
    "import math\n",
    "print(dir(math)) #Get all function inside an package\n",
    "\n",
    "help(math.ceil) #get the assistance of command with help keyword\n",
    "\n",
    "print(math.ceil(5.1243))\n",
    "\n",
    "class Person:\n",
    "    def __init__(self, name, surname, year_of_birth):\n",
    "        self.name = name\n",
    "        self.surname = surname\n",
    "        self.year_of_birth = year_of_birth\n",
    "        \n",
    "    def setValue(self, name, surname, year_of_birth):\n",
    "        self.name = name\n",
    "        self.surname = surname\n",
    "        self.year_of_birth = year_of_birth\n",
    "    \n",
    "    def age(self, current_year):\n",
    "        return current_year - self.year_of_birth\n",
    "    \n",
    "    def __str__(self):\n",
    "        return \"%s %s was born in %d.\" %(self.name, self.surname, self.year_of_birth)\n",
    "\n",
    "\n",
    "per = Person(\"Jio\", \"Kumar\", 2012)\n",
    "print(per)\n",
    "print(per.age(2020))\n",
    "\n",
    "\n",
    "class Student(Person):\n",
    "\n",
    "#Shortcut to pass paramters to parent class\n",
    "#     def __init__(self, student_id, *args, **kwargs): \n",
    "#         super(Student, self).__init__(*args, **kwargs)\n",
    "#         self.student_id = student_id\n",
    "\n",
    "      def __init__(self, student_id, sname, ssurname, syear_of_birth):\n",
    "        super(Student, self).__init__(sname, ssurname, syear_of_birth)\n",
    "        self.student_id = student_id\n",
    "    \n",
    "      def welcome(self):\n",
    "        print(self.name, self.surname, \", your student ID is\", self.student_id, \"and date of birth is\", self.year_of_birth)\n",
    "\n",
    "stud = Student(101, 'Ranbir', 'Kapoor', 1985)\n",
    "print(stud)\n",
    "print(stud.name)\n",
    "print(type(stud), type(Student), type(stud.age), type(stud.student_id), type(stud.name))\n",
    "print(stud.age(2021))\n",
    "print(stud.welcome())\n",
    "\n",
    "\n",
    "class Person1:\n",
    "  def __init__(self, name, age):\n",
    "    self.name = name\n",
    "    self.age = age\n",
    "\n",
    "  def myfunc(self):\n",
    "    print(\"Hello my name is \" + self.name)\n",
    "\n",
    "p1 = Person1(\"John\", 36)\n",
    "\n",
    "p1.age = 40\n",
    "\n",
    "print(p1.age)\n",
    "print(p1.name)\n",
    "\n"
   ]
  },
  {
   "cell_type": "code",
   "execution_count": null,
   "metadata": {},
   "outputs": [],
   "source": []
  },
  {
   "cell_type": "code",
   "execution_count": null,
   "metadata": {},
   "outputs": [],
   "source": []
  },
  {
   "cell_type": "code",
   "execution_count": null,
   "metadata": {},
   "outputs": [],
   "source": []
  }
 ],
 "metadata": {
  "kernelspec": {
   "display_name": "Python 3",
   "language": "python",
   "name": "python3"
  },
  "language_info": {
   "codemirror_mode": {
    "name": "ipython",
    "version": 3
   },
   "file_extension": ".py",
   "mimetype": "text/x-python",
   "name": "python",
   "nbconvert_exporter": "python",
   "pygments_lexer": "ipython3",
   "version": "3.7.4"
  }
 },
 "nbformat": 4,
 "nbformat_minor": 2
}
