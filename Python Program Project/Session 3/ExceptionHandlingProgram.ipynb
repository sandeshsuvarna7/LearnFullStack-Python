{
 "cells": [
  {
   "cell_type": "code",
   "execution_count": 1,
   "metadata": {},
   "outputs": [
    {
     "name": "stdout",
     "output_type": "stream",
     "text": [
      "Enter an Divisor value: \t5\n",
      "Enter an Dividend value: \t6\n",
      "Quotient: 0.8333333333333334\n",
      "Finally executed...\n"
     ]
    }
   ],
   "source": [
    "def Division(x, y):\n",
    "    return x / y\n",
    "    \n",
    "try:\n",
    "    x = int(input(\"Enter an Divisor value: \\t\"))\n",
    "    y = int(input(\"Enter an Dividend value: \\t\"))\n",
    "    print(\"Quotient: \" +str(Division(x, y)))\n",
    "except ZeroDivisionError as err:\n",
    "    print('Handling run-time error:', err)\n",
    "except ValueError as err:\n",
    "    print(\"Please enter only integer value...\" + err)\n",
    "finally:\n",
    "    print(\"Finally executed...\")"
   ]
  },
  {
   "cell_type": "code",
   "execution_count": null,
   "metadata": {},
   "outputs": [],
   "source": []
  },
  {
   "cell_type": "code",
   "execution_count": null,
   "metadata": {},
   "outputs": [],
   "source": []
  },
  {
   "cell_type": "code",
   "execution_count": null,
   "metadata": {},
   "outputs": [],
   "source": []
  },
  {
   "cell_type": "code",
   "execution_count": null,
   "metadata": {},
   "outputs": [],
   "source": []
  },
  {
   "cell_type": "code",
   "execution_count": null,
   "metadata": {},
   "outputs": [],
   "source": []
  }
 ],
 "metadata": {
  "kernelspec": {
   "display_name": "Python 3",
   "language": "python",
   "name": "python3"
  },
  "language_info": {
   "codemirror_mode": {
    "name": "ipython",
    "version": 3
   },
   "file_extension": ".py",
   "mimetype": "text/x-python",
   "name": "python",
   "nbconvert_exporter": "python",
   "pygments_lexer": "ipython3",
   "version": "3.7.4"
  }
 },
 "nbformat": 4,
 "nbformat_minor": 2
}
