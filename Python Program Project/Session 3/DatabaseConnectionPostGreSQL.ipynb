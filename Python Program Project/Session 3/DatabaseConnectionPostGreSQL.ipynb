{
 "cells": [
  {
   "cell_type": "code",
   "execution_count": 17,
   "metadata": {},
   "outputs": [
    {
     "name": "stdout",
     "output_type": "stream",
     "text": [
      "Database opened successfully...\n",
      "Actor ID:  23\n",
      "Actor First Name:  Sandra\n",
      "Actor Last Name:  Kilmer\n",
      "Last time record updated:  2013-05-26 14:47:57.620000 \n",
      "\n",
      "Actor ID:  105\n",
      "Actor First Name:  Sidney\n",
      "Actor Last Name:  Crowe\n",
      "Last time record updated:  2013-05-26 14:47:57.620000 \n",
      "\n",
      "Actor ID:  109\n",
      "Actor First Name:  Sylvester\n",
      "Actor Last Name:  Dern\n",
      "Last time record updated:  2013-05-26 14:47:57.620000 \n",
      "\n",
      "Database connection closed...\n"
     ]
    }
   ],
   "source": [
    "import psycopg2\n",
    "\n",
    "con = None\n",
    "try:\n",
    "    con = psycopg2.connect(database=\"dvdrental\", user=\"postgres\", password=\"Colgate@123\", host=\"127.0.0.1\", port=\"5432\")\n",
    "    print(\"Database opened successfully...\")\n",
    "    \n",
    "    cur = con.cursor()\n",
    "    query = \"SELECT * FROM public.actor where first_name Like '{0}' and last_name Like '{1}'\".format(\"S%\", \"%r%\")\n",
    "    cur.execute(query)\n",
    "    result = cur.fetchall()\n",
    "    for r in result:\n",
    "        print(\"Actor ID: \", r[0])\n",
    "        print(\"Actor First Name: \", r[1])\n",
    "        print(\"Actor Last Name: \", r[2])\n",
    "        print(\"Last time record updated: \", r[3], \"\\n\")\n",
    "\n",
    "except:\n",
    "    print(\"Error in connection...\")\n",
    "    \n",
    "finally:\n",
    "    if con != None:\n",
    "        con.close()\n",
    "        print(\"Database connection closed...\")\n",
    "        \n",
    "\n"
   ]
  },
  {
   "cell_type": "code",
   "execution_count": null,
   "metadata": {},
   "outputs": [],
   "source": []
  },
  {
   "cell_type": "code",
   "execution_count": null,
   "metadata": {},
   "outputs": [],
   "source": []
  }
 ],
 "metadata": {
  "kernelspec": {
   "display_name": "Python 3",
   "language": "python",
   "name": "python3"
  },
  "language_info": {
   "codemirror_mode": {
    "name": "ipython",
    "version": 3
   },
   "file_extension": ".py",
   "mimetype": "text/x-python",
   "name": "python",
   "nbconvert_exporter": "python",
   "pygments_lexer": "ipython3",
   "version": "3.7.4"
  }
 },
 "nbformat": 4,
 "nbformat_minor": 2
}
