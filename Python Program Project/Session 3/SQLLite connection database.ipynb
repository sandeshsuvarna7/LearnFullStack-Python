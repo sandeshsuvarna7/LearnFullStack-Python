{
 "cells": [
  {
   "cell_type": "code",
   "execution_count": 14,
   "metadata": {},
   "outputs": [
    {
     "name": "stdout",
     "output_type": "stream",
     "text": [
      "Opened database successfully\n",
      "ID =  2\n",
      "NAME =  Allen\n",
      "ADDRESS =  Texas\n",
      "SALARY =  15000.0 \n",
      "\n",
      "ID =  4\n",
      "NAME =  Mark\n",
      "ADDRESS =  Rich-Mond \n",
      "SALARY =  65000.0 \n",
      "\n",
      "Operation done successfully\n"
     ]
    }
   ],
   "source": [
    "import sqlite3\n",
    "\n",
    "conn = sqlite3.connect('test.db')\n",
    "\n",
    "print(\"Opened database successfully\")\n",
    "\n",
    "# conn.execute('''CREATE TABLE COMPANY\n",
    "#          (ID INT PRIMARY KEY     NOT NULL,\n",
    "#          NAME           TEXT    NOT NULL,\n",
    "#          AGE            INT     NOT NULL,\n",
    "#          ADDRESS        CHAR(50),\n",
    "#          SALARY         REAL);''')\n",
    "# print(\"Table created successfully\")\n",
    "\n",
    "# conn.execute(\"INSERT INTO COMPANY (ID,NAME,AGE,ADDRESS,SALARY) \\\n",
    "#       VALUES (1, 'Paul', 32, 'California', 20000.00 )\");\n",
    "\n",
    "# conn.execute(\"INSERT INTO COMPANY (ID,NAME,AGE,ADDRESS,SALARY) \\\n",
    "#       VALUES (2, 'Allen', 25, 'Texas', 15000.00 )\");\n",
    "\n",
    "# conn.execute(\"INSERT INTO COMPANY (ID,NAME,AGE,ADDRESS,SALARY) \\\n",
    "#       VALUES (3, 'Teddy', 23, 'Norway', 20000.00 )\");\n",
    "\n",
    "# conn.execute(\"INSERT INTO COMPANY (ID,NAME,AGE,ADDRESS,SALARY) \\\n",
    "#       VALUES (4, 'Mark', 25, 'Rich-Mond ', 65000.00 )\");\n",
    "\n",
    "# conn.commit()\n",
    "# print(\"Records created successfully\")\n",
    "\n",
    "ageCheck = \"SELECT id, name, address, salary from COMPANY where age ={0}\".format(25);\n",
    "cursor = conn.execute(ageCheck)\n",
    "for row in cursor:\n",
    "   print(\"ID = \", row[0])\n",
    "   print(\"NAME = \", row[1])\n",
    "   print(\"ADDRESS = \", row[2])\n",
    "   print(\"SALARY = \", row[3], \"\\n\")\n",
    "\n",
    "print(\"Operation done successfully\")\n",
    "\n",
    "conn.close()"
   ]
  },
  {
   "cell_type": "code",
   "execution_count": null,
   "metadata": {},
   "outputs": [],
   "source": []
  }
 ],
 "metadata": {
  "kernelspec": {
   "display_name": "Python 3",
   "language": "python",
   "name": "python3"
  },
  "language_info": {
   "codemirror_mode": {
    "name": "ipython",
    "version": 3
   },
   "file_extension": ".py",
   "mimetype": "text/x-python",
   "name": "python",
   "nbconvert_exporter": "python",
   "pygments_lexer": "ipython3",
   "version": "3.7.4"
  }
 },
 "nbformat": 4,
 "nbformat_minor": 2
}
